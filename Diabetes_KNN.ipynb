{
  "nbformat": 4,
  "nbformat_minor": 0,
  "metadata": {
    "colab": {
      "name": "Diabetes_KNN",
      "provenance": [],
      "collapsed_sections": [],
      "authorship_tag": "ABX9TyN6guAmsM6P6jBAkZi07+EK",
      "include_colab_link": true
    },
    "kernelspec": {
      "name": "python3",
      "display_name": "Python 3"
    },
    "language_info": {
      "name": "python"
    }
  },
  "cells": [
    {
      "cell_type": "markdown",
      "metadata": {
        "id": "view-in-github",
        "colab_type": "text"
      },
      "source": [
        "<a href=\"https://colab.research.google.com/github/Isac999/study-of-KNN-Classifier/blob/main/Diabetes_KNN.ipynb\" target=\"_parent\"><img src=\"https://colab.research.google.com/assets/colab-badge.svg\" alt=\"Open In Colab\"/></a>"
      ]
    },
    {
      "cell_type": "code",
      "execution_count": null,
      "metadata": {
        "id": "UhhL0yjqiiQK"
      },
      "outputs": [],
      "source": [
        "import pandas as pd\n",
        "from sklearn.model_selection import train_test_split\n",
        "import sklearn.neighbors as neighbors\n",
        "from matplotlib import pyplot as plt"
      ]
    },
    {
      "cell_type": "code",
      "source": [
        "df = pd.read_csv('./diabetes.csv')\n",
        "df = df.rename(columns={\n",
        "    'Pregnancies': 'gravidezes',\n",
        "    'Glucose': 'glicose',\n",
        "    'BloodPressure': 'pressaoSanguinea',\n",
        "    'SkinThickness': 'espessuraPele',\n",
        "    'Insulin': 'insulina',\n",
        "    'BMI': 'imc',\n",
        "    'DiabetesPedigreeFunction': 'funcaoDiabete',\n",
        "    'Age': 'idade',\n",
        "    'Outcome': 'resultado'\n",
        "})"
      ],
      "metadata": {
        "id": "4r-A4iQGjNZd"
      },
      "execution_count": null,
      "outputs": []
    },
    {
      "cell_type": "code",
      "source": [
        "df_train = df.drop('resultado', axis=1)\n",
        "x_train, x_test, y_train, y_test = train_test_split(df_train, df['resultado'], random_state=1, test_size=0.3)\n",
        "knn_classifier = neighbors.KNeighborsClassifier(n_neighbors=2).fit(x_train, y_train)\n",
        "knn_regressor = neighbors.KNeighborsRegressor(n_neighbors=2).fit(x_train, y_train)"
      ],
      "metadata": {
        "id": "LaIfg1Z6jrvf"
      },
      "execution_count": null,
      "outputs": []
    },
    {
      "cell_type": "code",
      "source": [
        "print('Classificador-Treino: %.2f'%knn_classifier.score(x_train, y_train))\n",
        "print('Regressor-Treino: %.2f\\n'%knn_regressor.score(x_train, y_train))\n",
        "\n",
        "print('Classificador-Teste: %.2f'%knn_classifier.score(x_test, y_test))\n",
        "print('Regressor-Teste: %.2f'%knn_regressor.score(x_test, y_test))"
      ],
      "metadata": {
        "id": "AJhoRVvcmXhC",
        "colab": {
          "base_uri": "https://localhost:8080/"
        },
        "outputId": "5a406509-09ba-42f7-ab16-09f50dfd7814"
      },
      "execution_count": null,
      "outputs": [
        {
          "output_type": "stream",
          "name": "stdout",
          "text": [
            "Classificador-Treino: 0.82\n",
            "Regressor-Treino: 0.61\n",
            "\n",
            "Classificador-Teste: 0.72\n",
            "Regressor-Teste: 0.09\n"
          ]
        }
      ]
    }
  ]
}